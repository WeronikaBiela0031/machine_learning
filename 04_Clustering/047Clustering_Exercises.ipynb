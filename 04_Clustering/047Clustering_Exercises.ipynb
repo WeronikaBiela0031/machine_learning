{
 "cells": [
  {
   "cell_type": "markdown",
   "source": [
    "# Exercises\n",
    "\n",
    "We have prepared five exercises in this chapter:\n",
    "\n",
    "1. Modify the HCM code to work for three groups. This exercise can be divded into four tasks: \n",
    "    - modify the parameters,\n",
    "    - modify the calculate_u function,\n",
    "    - execute the clustering,\n",
    "    - plot the results.\n",
    "2. For density clustering, plot the feature space with all element marked with different color, depending on the cluster that it's assigned to. You should do the following tasks:\n",
    "    - fill the get_color method,\n",
    "    - fill the plot code.\n",
    "3. Build a method that plot based on dendrograms_history and pydot, a dendrogram for the divisive clustering method. You should base on agglomerative method, but keep in mind that it works top-down instead of bottom-up. This exercise need just one function to be implemented:\n",
    "    - show_tree_divisive. \n",
    "    You should loop over the dendrogram_history variable and loop over childs.\n",
    "4. Implement the $s_{2}$ metric   \n",
    "5. Draw the borders between clusters in the output image (for 5.0 grade)"
   ],
   "metadata": {
    "collapsed": false,
    "pycharm": {
     "name": "#%% md\n"
    }
   }
  },
  {
   "cell_type": "markdown",
   "metadata": {},
   "source": [
    "## Libraries\n",
    "\n",
    "To solve the exercises, we need the following libraries to load in the first place.\n"
   ]
  },
  {
   "cell_type": "code",
<<<<<<< 618ab3556c725e4c090e61c12f73733ec2b5b9d6
   "execution_count": 3,
=======
   "execution_count": 37,
>>>>>>> modifications during first attempt to clustering exercises, % store -r is NOT working
   "metadata": {
    "pycharm": {
     "is_executing": false
    }
   },
   "outputs": [],
   "source": [
    "import random\n",
    "from math import sqrt\n",
    "\n",
    "import matplotlib.image as img\n",
    "import numpy as np\n",
    "import pandas as pd\n",
    "from PIL import Image\n",
<<<<<<< 618ab3556c725e4c090e61c12f73733ec2b5b9d6
    "from matplotlib import pyplot as plt\n"
=======
    "from matplotlib import pyplot as plt"
>>>>>>> modifications during first attempt to clustering exercises, % store -r is NOT working
   ]
  },
  {
   "cell_type": "code",
   "execution_count": 38,
   "outputs": [
    {
     "name": "stdout",
     "text": [
      "Stored 'data_set' (ndarray)\n"
     ],
     "output_type": "stream"
    }
   ],
   "source": [
    "X=np.array([(4,1940),(9,2960),(9,4630),(78,1528),(90,2040),(50,3700),(467,14815),(509,15200),(290,15700),(215,6045)])\n",
    "train_data = np.array(X)\n",
    "max_values = train_data.max(0)\n",
    "X_norm = np.divide(train_data,max_values)\n",
    "pd.DataFrame(X_norm, columns = ['Seats count','Distance range (km)'])\n",
    "data_set = X_norm\n",
    "%store data_set"
   ],
   "metadata": {
    "collapsed": false,
    "pycharm": {
     "name": "#%%\n",
     "is_executing": false
    }
   }
  },
  {
   "cell_type": "markdown",
   "metadata": {},
   "source": [
    "## Exercise 1: Modify the HCM code to work for three groups\n",
    "\n",
    "The obvious part is the variable ```groups```, but the most changes needs to be done here:"
   ]
  },
  {
   "cell_type": "code",
<<<<<<< 618ab3556c725e4c090e61c12f73733ec2b5b9d6
   "execution_count": 4,
=======
   "execution_count": 39,
>>>>>>> modifications during first attempt to clustering exercises, % store -r is NOT working
   "metadata": {
    "pycharm": {
     "is_executing": false
    }
   },
<<<<<<< 618ab3556c725e4c090e61c12f73733ec2b5b9d6
   "outputs": [],
=======
   "outputs": [
    {
     "name": "stdout",
     "text": [
      "[[0. 0. 0.]\n [0. 0. 0.]\n [0. 0. 0.]\n [0. 0. 0.]\n [0. 0. 0.]\n [0. 0. 0.]\n [0. 0. 0.]\n [0. 0. 0.]\n [0. 0. 0.]\n [0. 0. 0.]]\n"
     ],
     "output_type": "stream"
    }
   ],
>>>>>>> modifications during first attempt to clustering exercises, % store -r is NOT working
   "source": [
    "data_set = np.array([])\n",
    "%store -r data_set\n",
    "#print(data_set)\n",
    "### change here:\n",
    "groups = 3\n",
    "\n",
    "error_margin = 0.01\n",
    "m=2 \n",
    "assignation=np.zeros((len(data_set),groups))\n",
<<<<<<< 618ab3556c725e4c090e61c12f73733ec2b5b9d6
    "#print(assignation)\n",
=======
    "print(assignation)\n",
>>>>>>> modifications during first attempt to clustering exercises, % store -r is NOT working
    "centers = np.array([[0.01229673, 0.25183492],\n",
    "       [0.3689626 , 0.61904127],\n",
    "       [0.95732769, 0.45059586]])"
   ]
  },
  {
   "cell_type": "markdown",
   "source": [
    "We have chosen the error margin and feature space and 3 centers. "
   ],
   "metadata": {
    "collapsed": false,
    "pycharm": {
     "name": "#%% md\n"
    }
   }
  },
  {
   "cell_type": "code",
<<<<<<< 618ab3556c725e4c090e61c12f73733ec2b5b9d6
   "execution_count": 5,
=======
   "execution_count": 40,
>>>>>>> modifications during first attempt to clustering exercises, % store -r is NOT working
   "outputs": [
    {
     "data": {
      "text/plain": "         x1        x2\n0  0.012297  0.251835\n1  0.368963  0.619041\n2  0.957328  0.450596",
      "text/html": "<div>\n<style scoped>\n    .dataframe tbody tr th:only-of-type {\n        vertical-align: middle;\n    }\n\n    .dataframe tbody tr th {\n        vertical-align: top;\n    }\n\n    .dataframe thead th {\n        text-align: right;\n    }\n</style>\n<table border=\"1\" class=\"dataframe\">\n  <thead>\n    <tr style=\"text-align: right;\">\n      <th></th>\n      <th>x1</th>\n      <th>x2</th>\n    </tr>\n  </thead>\n  <tbody>\n    <tr>\n      <th>0</th>\n      <td>0.012297</td>\n      <td>0.251835</td>\n    </tr>\n    <tr>\n      <th>1</th>\n      <td>0.368963</td>\n      <td>0.619041</td>\n    </tr>\n    <tr>\n      <th>2</th>\n      <td>0.957328</td>\n      <td>0.450596</td>\n    </tr>\n  </tbody>\n</table>\n</div>"
     },
     "metadata": {},
     "output_type": "execute_result",
<<<<<<< 618ab3556c725e4c090e61c12f73733ec2b5b9d6
     "execution_count": 5
=======
     "execution_count": 40
>>>>>>> modifications during first attempt to clustering exercises, % store -r is NOT working
    }
   ],
   "source": [
    "pd.DataFrame(centers, columns=['x1','x2'])"
   ],
   "metadata": {
    "collapsed": false,
    "pycharm": {
     "name": "#%% \n",
     "is_executing": false
    }
   }
  },
  {
   "cell_type": "markdown",
   "source": [
    "The assignation matrix if filled with zeros as we don't have any guess for assignation yet. \n",
<<<<<<< 618ab3556c725e4c090e61c12f73733ec2b5b9d6
    "\n",
    "\\begin{equation*}\n",
    "U=\\begin{bmatrix}\n",
    "0 & 0 & 0 & 0 & 0 & 0 & 0 & 0 & 0 & 0\\\\\n",
    "0 & 0 & 0 & 0 & 0 & 0 & 0 & 0 & 0 & 0\\\\\n",
    "0 & 0 & 0 & 0 & 0 & 0 & 0 & 0 & 0 & 0\\\\\n",
    "\\end{bmatrix}.\n",
    "\\end{equation*}"
   ],
   "metadata": {
    "collapsed": false,
    "pycharm": {
     "name": "#%% md\n"
    }
   }
  },
  {
   "cell_type": "markdown",
   "source": [
    "### Modify the ``calculate_u`` function\n",
    "\n",
    "Fill the gap below to make the function working for more groups than two. The goal here is to calculate the distance between ``x`` and the center of a given group and append the value to ``minimal_distance``."
   ],
   "metadata": {
    "collapsed": false
=======
    "\n",
    "\\begin{equation*}\n",
    "U=\\begin{bmatrix}\n",
    "0 & 0 & 0 & 0 & 0 & 0 & 0 & 0 & 0 & 0\\\\\n",
    "0 & 0 & 0 & 0 & 0 & 0 & 0 & 0 & 0 & 0\\\\\n",
    "0 & 0 & 0 & 0 & 0 & 0 & 0 & 0 & 0 & 0\\\\\n",
    "\\end{bmatrix}.\n",
    "\\end{equation*}"
   ],
   "metadata": {
    "collapsed": false,
    "pycharm": {
     "name": "#%% md\n"
    }
>>>>>>> modifications during first attempt to clustering exercises, % store -r is NOT working
   }
  },
  {
   "cell_type": "code",
<<<<<<< 618ab3556c725e4c090e61c12f73733ec2b5b9d6
   "execution_count": 6,
   "outputs": [],
=======
   "execution_count": 41,
   "outputs": [
    {
     "traceback": [
      "\u001b[1;31m---------------------------------------------------------------------------\u001b[0m",
      "\u001b[1;31mValueError\u001b[0m                                Traceback (most recent call last)",
      "\u001b[1;32m<ipython-input-41-04a4262be687>\u001b[0m in \u001b[0;36m<module>\u001b[1;34m\u001b[0m\n\u001b[0;32m     45\u001b[0m \u001b[1;33m\u001b[0m\u001b[0m\n\u001b[0;32m     46\u001b[0m \u001b[1;33m\u001b[0m\u001b[0m\n\u001b[1;32m---> 47\u001b[1;33m \u001b[0mnew_assignation\u001b[0m\u001b[1;33m,\u001b[0m \u001b[0mnew_centers\u001b[0m \u001b[1;33m=\u001b[0m \u001b[0mcluster_hcm\u001b[0m\u001b[1;33m(\u001b[0m\u001b[0massignation\u001b[0m\u001b[1;33m,\u001b[0m \u001b[0mcenters\u001b[0m\u001b[1;33m)\u001b[0m\u001b[1;33m\u001b[0m\u001b[1;33m\u001b[0m\u001b[0m\n\u001b[0m\u001b[0;32m     48\u001b[0m \u001b[0mpd\u001b[0m\u001b[1;33m.\u001b[0m\u001b[0mDataFrame\u001b[0m\u001b[1;33m(\u001b[0m\u001b[0mnew_centers\u001b[0m\u001b[1;33m,\u001b[0m \u001b[0mcolumns\u001b[0m\u001b[1;33m=\u001b[0m\u001b[1;33m[\u001b[0m\u001b[1;34m'x1'\u001b[0m\u001b[1;33m,\u001b[0m\u001b[1;34m'x2'\u001b[0m\u001b[1;33m]\u001b[0m\u001b[1;33m)\u001b[0m\u001b[1;33m\u001b[0m\u001b[1;33m\u001b[0m\u001b[0m\n",
      "\u001b[1;32m<ipython-input-41-04a4262be687>\u001b[0m in \u001b[0;36mcluster_hcm\u001b[1;34m(assignation, centers)\u001b[0m\n\u001b[0;32m     36\u001b[0m         \u001b[1;32mfor\u001b[0m \u001b[0mi\u001b[0m \u001b[1;32min\u001b[0m \u001b[0mrange\u001b[0m\u001b[1;33m(\u001b[0m\u001b[0mlen\u001b[0m\u001b[1;33m(\u001b[0m\u001b[0mdata_set\u001b[0m\u001b[1;33m)\u001b[0m\u001b[1;33m)\u001b[0m\u001b[1;33m:\u001b[0m\u001b[1;33m\u001b[0m\u001b[1;33m\u001b[0m\u001b[0m\n\u001b[0;32m     37\u001b[0m             \u001b[0mnew_assignation\u001b[0m\u001b[1;33m.\u001b[0m\u001b[0mappend\u001b[0m\u001b[1;33m(\u001b[0m\u001b[0mcalculate_u_3\u001b[0m\u001b[1;33m(\u001b[0m\u001b[0mdata_set\u001b[0m\u001b[1;33m[\u001b[0m\u001b[0mi\u001b[0m\u001b[1;33m]\u001b[0m\u001b[1;33m,\u001b[0m \u001b[0mnew_centers\u001b[0m\u001b[1;33m)\u001b[0m\u001b[1;33m)\u001b[0m\u001b[1;33m\u001b[0m\u001b[1;33m\u001b[0m\u001b[0m\n\u001b[1;32m---> 38\u001b[1;33m         \u001b[0mnew_centers\u001b[0m \u001b[1;33m=\u001b[0m \u001b[0mcalculate_new_centers\u001b[0m\u001b[1;33m(\u001b[0m\u001b[0mnew_assignation\u001b[0m\u001b[1;33m)\u001b[0m\u001b[1;33m\u001b[0m\u001b[1;33m\u001b[0m\u001b[0m\n\u001b[0m\u001b[0;32m     39\u001b[0m         \u001b[1;32mif\u001b[0m \u001b[0miter\u001b[0m\u001b[1;33m>\u001b[0m\u001b[1;36m0\u001b[0m\u001b[1;33m:\u001b[0m\u001b[1;33m\u001b[0m\u001b[1;33m\u001b[0m\u001b[0m\n\u001b[0;32m     40\u001b[0m             \u001b[1;32mif\u001b[0m \u001b[0mcalculate_differences\u001b[0m\u001b[1;33m(\u001b[0m\u001b[0mnew_assignation\u001b[0m\u001b[1;33m,\u001b[0m \u001b[0massignation\u001b[0m\u001b[1;33m)\u001b[0m \u001b[1;33m<\u001b[0m \u001b[0merror_margin\u001b[0m\u001b[1;33m:\u001b[0m\u001b[1;33m\u001b[0m\u001b[1;33m\u001b[0m\u001b[0m\n",
      "\u001b[1;32m<ipython-input-41-04a4262be687>\u001b[0m in \u001b[0;36mcalculate_new_centers\u001b[1;34m(u)\u001b[0m\n\u001b[0;32m     21\u001b[0m         \u001b[1;32mfor\u001b[0m \u001b[0mi\u001b[0m \u001b[1;32min\u001b[0m \u001b[0mrange\u001b[0m\u001b[1;33m(\u001b[0m\u001b[0mlen\u001b[0m\u001b[1;33m(\u001b[0m\u001b[0mdata_set\u001b[0m\u001b[1;33m)\u001b[0m\u001b[1;33m)\u001b[0m\u001b[1;33m:\u001b[0m\u001b[1;33m\u001b[0m\u001b[1;33m\u001b[0m\u001b[0m\n\u001b[0;32m     22\u001b[0m             \u001b[0mu_scalar\u001b[0m \u001b[1;33m=\u001b[0m \u001b[0mu_scalar\u001b[0m\u001b[1;33m+\u001b[0m\u001b[1;33m(\u001b[0m\u001b[0mu\u001b[0m\u001b[1;33m[\u001b[0m\u001b[0mi\u001b[0m\u001b[1;33m]\u001b[0m\u001b[1;33m[\u001b[0m\u001b[0mc\u001b[0m\u001b[1;33m]\u001b[0m\u001b[1;33m**\u001b[0m\u001b[0mm\u001b[0m\u001b[1;33m)\u001b[0m\u001b[1;33m\u001b[0m\u001b[1;33m\u001b[0m\u001b[0m\n\u001b[1;32m---> 23\u001b[1;33m             \u001b[0mu_x_vector\u001b[0m\u001b[1;33m=\u001b[0m\u001b[0mnp\u001b[0m\u001b[1;33m.\u001b[0m\u001b[0madd\u001b[0m\u001b[1;33m(\u001b[0m\u001b[0mu_x_vector\u001b[0m\u001b[1;33m,\u001b[0m\u001b[0mnp\u001b[0m\u001b[1;33m.\u001b[0m\u001b[0mmultiply\u001b[0m\u001b[1;33m(\u001b[0m\u001b[0mu\u001b[0m\u001b[1;33m[\u001b[0m\u001b[0mi\u001b[0m\u001b[1;33m]\u001b[0m\u001b[1;33m[\u001b[0m\u001b[0mc\u001b[0m\u001b[1;33m]\u001b[0m\u001b[1;33m**\u001b[0m\u001b[0mm\u001b[0m\u001b[1;33m,\u001b[0m\u001b[0mdata_set\u001b[0m\u001b[1;33m[\u001b[0m\u001b[0mi\u001b[0m\u001b[1;33m]\u001b[0m\u001b[1;33m)\u001b[0m\u001b[1;33m)\u001b[0m \u001b[1;31m#tutaj mu nie pasują rozmay macierzy ale u  to assignation i powinno byc macierza 1x3\u001b[0m\u001b[1;33m\u001b[0m\u001b[1;33m\u001b[0m\u001b[0m\n\u001b[0m\u001b[0;32m     24\u001b[0m         \u001b[0mnew_centers\u001b[0m\u001b[1;33m.\u001b[0m\u001b[0mappend\u001b[0m\u001b[1;33m(\u001b[0m\u001b[0mnp\u001b[0m\u001b[1;33m.\u001b[0m\u001b[0mdivide\u001b[0m\u001b[1;33m(\u001b[0m\u001b[0mu_x_vector\u001b[0m\u001b[1;33m,\u001b[0m\u001b[0mu_scalar\u001b[0m\u001b[1;33m)\u001b[0m\u001b[1;33m)\u001b[0m\u001b[1;33m\u001b[0m\u001b[1;33m\u001b[0m\u001b[0m\n\u001b[0;32m     25\u001b[0m     \u001b[1;32mreturn\u001b[0m \u001b[0mnew_centers\u001b[0m\u001b[1;33m\u001b[0m\u001b[1;33m\u001b[0m\u001b[0m\n",
      "\u001b[1;31mValueError\u001b[0m: operands could not be broadcast together with shapes (3,) (2,) "
     ],
     "ename": "ValueError",
     "evalue": "operands could not be broadcast together with shapes (3,) (2,) ",
     "output_type": "error"
    }
   ],
>>>>>>> modifications during first attempt to clustering exercises, % store -r is NOT working
   "source": [
    "def calculate_distance(x,v):\n",
    "    return sqrt((x[0]-v[0])**2+(x[1]-v[1])**2)\n",
    "\n",
<<<<<<< 618ab3556c725e4c090e61c12f73733ec2b5b9d6
    "def calculate_u_three(x, centers):\n",
    "    u_array = np.zeros(groups)\n",
    "    minimal_distance = []\n",
    "    for group in range(groups):\n",
    "        minimal_distance.append(calculate_distance(x, centers[group]))\n",
    "    # fill the gap (1 line of code)        ??? mam obliczyc srodek grupy? ale ja nawet nie podaje ich jakoargument... tylko x\n",
    "    min_group_id = np.argmin(minimal_distance)\n",
    "    u_array[min_group_id] = 1\n",
    "    return u_array\n",
    "\n",
    "# def calculate_u_3(x, centers):    #\n",
    "#     if calculate_distance(x, centers[0]) < calculate_distance(x, centers[1]):\n",
    "#         if calculate_distance(x, centers[0]) < calculate_distance(x, centers[2]):\n",
    "#             return np.array([1,0,0])\n",
    "#         else:\n",
    "#             return np.array([0,0,1])\n",
    "#     else:\n",
    "#         if calculate_distance(x, centers[1]) < calculate_distance(x, centers[2]):\n",
    "#             return np.array([0,1,0])\n",
    "#         else:\n",
    "#             return np.array([1,0,0])\n",
=======
    "def calculate_u_3(x, centers):\n",
    "    if calculate_distance(x, centers[0]) < calculate_distance(x, centers[1]):\n",
    "        if calculate_distance(x, centers[0]) < calculate_distance(x, centers[2]):\n",
    "            return [1,0,0]\n",
    "        else:\n",
    "            return [0,0,1]\n",
    "    else:\n",
    "        if calculate_distance(x, centers[1]) < calculate_distance(x, centers[2]):\n",
    "            return [0,1,0]\n",
    "        else:\n",
    "            return [1,0,0]\n",
>>>>>>> modifications during first attempt to clustering exercises, % store -r is NOT working
    "\n",
    "def calculate_new_centers(u):\n",
    "    new_centers=[]\n",
    "    for c in range(groups):\n",
<<<<<<< 618ab3556c725e4c090e61c12f73733ec2b5b9d6
    "        u_x_vector=np.zeros(2) \n",
    "        u_scalar=0.0\n",
    "        for i in range(len(data_set)):\n",
    "            u_scalar = u_scalar+(u[i][c]**m)\n",
    "            u_x_vector=np.add(u_x_vector,np.multiply(u[i][c]**m,data_set[i])) #TODO tutaj mu nie pasują rozmay macierzy ale u  to assignation i powinno byc macierza 1x3\n",
=======
    "        u_x_vector=np.zeros(3) #3\n",
    "        u_scalar=0.0\n",
    "        for i in range(len(data_set)):\n",
    "            u_scalar = u_scalar+(u[i][c]**m)\n",
    "            u_x_vector=np.add(u_x_vector,np.multiply(u[i][c]**m,data_set[i])) #tutaj mu nie pasują rozmay macierzy ale u  to assignation i powinno byc macierza 1x3\n",
>>>>>>> modifications during first attempt to clustering exercises, % store -r is NOT working
    "        new_centers.append(np.divide(u_x_vector,u_scalar))\n",
    "    return new_centers\n",
    "\n",
    "def calculate_differences(new_assignation, assignation):     \n",
    "    return np.sum(np.abs(np.subtract(assignation,new_assignation)))\n",
    "\n",
    "def cluster_hcm(assignation,centers):\n",
    "    difference_limit_not_achieved=True\n",
    "    new_centers = centers\n",
    "    iter = 0\n",
    "    while difference_limit_not_achieved:\n",
    "        new_assignation=[]\n",
    "        for i in range(len(data_set)):\n",
<<<<<<< 618ab3556c725e4c090e61c12f73733ec2b5b9d6
    "            new_assignation.append(calculate_u_three(data_set[i], new_centers))\n",
=======
    "            new_assignation.append(calculate_u_3(data_set[i], new_centers))\n",
>>>>>>> modifications during first attempt to clustering exercises, % store -r is NOT working
    "        new_centers = calculate_new_centers(new_assignation)\n",
    "        if iter>0:\n",
    "            if calculate_differences(new_assignation, assignation) < error_margin:\n",
    "                difference_limit_not_achieved=False\n",
    "        assignation=new_assignation\n",
    "        iter=iter+1\n",
<<<<<<< 618ab3556c725e4c090e61c12f73733ec2b5b9d6
    "    return new_assignation, new_centers"
=======
    "    return new_assignation, new_centers\n",
    "\n",
    "\n",
    "new_assignation, new_centers = cluster_hcm(assignation, centers)\n",
    "pd.DataFrame(new_centers, columns=['x1','x2'])"
>>>>>>> modifications during first attempt to clustering exercises, % store -r is NOT working
   ],
   "metadata": {
    "collapsed": false,
    "pycharm": {
     "name": "#%%\n",
     "is_executing": false
    }
   }
<<<<<<< 618ab3556c725e4c090e61c12f73733ec2b5b9d6
=======
  },
  {
   "cell_type": "markdown",
   "metadata": {},
   "source": [
    "### Modify the ``calculate_u`` function\n",
    "\n",
    "Fill the gap below to make the function working for more groups than two. The goal here is to calculate the distance between ``x`` and the center of a given group and append the value to ``minimal_distance``."
   ]
  },
  {
   "cell_type": "code",
   "execution_count": null,
   "metadata": {
    "pycharm": {
     "is_executing": false
    }
   },
   "outputs": [],
   "source": [
    "def calculate_u_three(x):\n",
    "    u_array = np.zeros(groups)\n",
    "    minimal_distance = []\n",
    "    for group in range(groups):\n",
    "        minimal_distance.append(calculate_distance(x, group))\n",
    "    # fill the gap (1 line of code)        ??? mam obliczyc srodek grupy? ale ja nawet nie podaje ich jakoargument... tylko x\n",
    "    min_group_id = np.argmin(minimal_distance)\n",
    "    u_array[min_group_id] = 1\n",
    "    return u_array"
   ]
>>>>>>> modifications during first attempt to clustering exercises, % store -r is NOT working
  },
  {
   "cell_type": "markdown",
   "source": [
    "### Execute the clustering\n",
    "\n",
    "As in the previous example we need to cluster it."
   ],
   "metadata": {
    "collapsed": false
   }
  },
  {
   "cell_type": "code",
<<<<<<< 618ab3556c725e4c090e61c12f73733ec2b5b9d6
   "execution_count": 7,
   "outputs": [
    {
     "data": {
      "text/plain": "         x1        x2\n0  0.078585  0.178323\n1  0.496071  0.692516\n2  0.958743  0.955892",
      "text/html": "<div>\n<style scoped>\n    .dataframe tbody tr th:only-of-type {\n        vertical-align: middle;\n    }\n\n    .dataframe tbody tr th {\n        vertical-align: top;\n    }\n\n    .dataframe thead th {\n        text-align: right;\n    }\n</style>\n<table border=\"1\" class=\"dataframe\">\n  <thead>\n    <tr style=\"text-align: right;\">\n      <th></th>\n      <th>x1</th>\n      <th>x2</th>\n    </tr>\n  </thead>\n  <tbody>\n    <tr>\n      <th>0</th>\n      <td>0.078585</td>\n      <td>0.178323</td>\n    </tr>\n    <tr>\n      <th>1</th>\n      <td>0.496071</td>\n      <td>0.692516</td>\n    </tr>\n    <tr>\n      <th>2</th>\n      <td>0.958743</td>\n      <td>0.955892</td>\n    </tr>\n  </tbody>\n</table>\n</div>"
     },
     "metadata": {},
     "output_type": "execute_result",
     "execution_count": 7
=======
   "execution_count": 42,
   "metadata": {
    "pycharm": {
     "is_executing": false
    }
   },
   "outputs": [
    {
     "traceback": [
      "\u001b[1;31m---------------------------------------------------------------------------\u001b[0m",
      "\u001b[1;31mValueError\u001b[0m                                Traceback (most recent call last)",
      "\u001b[1;32m<ipython-input-42-e984dde5ba80>\u001b[0m in \u001b[0;36m<module>\u001b[1;34m\u001b[0m\n\u001b[1;32m----> 1\u001b[1;33m \u001b[0mnew_assignation_hcm3\u001b[0m\u001b[1;33m,\u001b[0m \u001b[0mnew_centers_hcm3\u001b[0m \u001b[1;33m=\u001b[0m \u001b[0mcluster_hcm\u001b[0m\u001b[1;33m(\u001b[0m\u001b[0massignation\u001b[0m\u001b[1;33m,\u001b[0m \u001b[0mcenters\u001b[0m\u001b[1;33m)\u001b[0m\u001b[1;33m\u001b[0m\u001b[1;33m\u001b[0m\u001b[0m\n\u001b[0m\u001b[0;32m      2\u001b[0m \u001b[0mpd\u001b[0m\u001b[1;33m.\u001b[0m\u001b[0mDataFrame\u001b[0m\u001b[1;33m(\u001b[0m\u001b[0mnew_centers_hcm3\u001b[0m\u001b[1;33m)\u001b[0m\u001b[1;33m\u001b[0m\u001b[1;33m\u001b[0m\u001b[0m\n\u001b[0;32m      3\u001b[0m \u001b[1;33m\u001b[0m\u001b[0m\n",
      "\u001b[1;32m<ipython-input-41-04a4262be687>\u001b[0m in \u001b[0;36mcluster_hcm\u001b[1;34m(assignation, centers)\u001b[0m\n\u001b[0;32m     36\u001b[0m         \u001b[1;32mfor\u001b[0m \u001b[0mi\u001b[0m \u001b[1;32min\u001b[0m \u001b[0mrange\u001b[0m\u001b[1;33m(\u001b[0m\u001b[0mlen\u001b[0m\u001b[1;33m(\u001b[0m\u001b[0mdata_set\u001b[0m\u001b[1;33m)\u001b[0m\u001b[1;33m)\u001b[0m\u001b[1;33m:\u001b[0m\u001b[1;33m\u001b[0m\u001b[1;33m\u001b[0m\u001b[0m\n\u001b[0;32m     37\u001b[0m             \u001b[0mnew_assignation\u001b[0m\u001b[1;33m.\u001b[0m\u001b[0mappend\u001b[0m\u001b[1;33m(\u001b[0m\u001b[0mcalculate_u_3\u001b[0m\u001b[1;33m(\u001b[0m\u001b[0mdata_set\u001b[0m\u001b[1;33m[\u001b[0m\u001b[0mi\u001b[0m\u001b[1;33m]\u001b[0m\u001b[1;33m,\u001b[0m \u001b[0mnew_centers\u001b[0m\u001b[1;33m)\u001b[0m\u001b[1;33m)\u001b[0m\u001b[1;33m\u001b[0m\u001b[1;33m\u001b[0m\u001b[0m\n\u001b[1;32m---> 38\u001b[1;33m         \u001b[0mnew_centers\u001b[0m \u001b[1;33m=\u001b[0m \u001b[0mcalculate_new_centers\u001b[0m\u001b[1;33m(\u001b[0m\u001b[0mnew_assignation\u001b[0m\u001b[1;33m)\u001b[0m\u001b[1;33m\u001b[0m\u001b[1;33m\u001b[0m\u001b[0m\n\u001b[0m\u001b[0;32m     39\u001b[0m         \u001b[1;32mif\u001b[0m \u001b[0miter\u001b[0m\u001b[1;33m>\u001b[0m\u001b[1;36m0\u001b[0m\u001b[1;33m:\u001b[0m\u001b[1;33m\u001b[0m\u001b[1;33m\u001b[0m\u001b[0m\n\u001b[0;32m     40\u001b[0m             \u001b[1;32mif\u001b[0m \u001b[0mcalculate_differences\u001b[0m\u001b[1;33m(\u001b[0m\u001b[0mnew_assignation\u001b[0m\u001b[1;33m,\u001b[0m \u001b[0massignation\u001b[0m\u001b[1;33m)\u001b[0m \u001b[1;33m<\u001b[0m \u001b[0merror_margin\u001b[0m\u001b[1;33m:\u001b[0m\u001b[1;33m\u001b[0m\u001b[1;33m\u001b[0m\u001b[0m\n",
      "\u001b[1;32m<ipython-input-41-04a4262be687>\u001b[0m in \u001b[0;36mcalculate_new_centers\u001b[1;34m(u)\u001b[0m\n\u001b[0;32m     21\u001b[0m         \u001b[1;32mfor\u001b[0m \u001b[0mi\u001b[0m \u001b[1;32min\u001b[0m \u001b[0mrange\u001b[0m\u001b[1;33m(\u001b[0m\u001b[0mlen\u001b[0m\u001b[1;33m(\u001b[0m\u001b[0mdata_set\u001b[0m\u001b[1;33m)\u001b[0m\u001b[1;33m)\u001b[0m\u001b[1;33m:\u001b[0m\u001b[1;33m\u001b[0m\u001b[1;33m\u001b[0m\u001b[0m\n\u001b[0;32m     22\u001b[0m             \u001b[0mu_scalar\u001b[0m \u001b[1;33m=\u001b[0m \u001b[0mu_scalar\u001b[0m\u001b[1;33m+\u001b[0m\u001b[1;33m(\u001b[0m\u001b[0mu\u001b[0m\u001b[1;33m[\u001b[0m\u001b[0mi\u001b[0m\u001b[1;33m]\u001b[0m\u001b[1;33m[\u001b[0m\u001b[0mc\u001b[0m\u001b[1;33m]\u001b[0m\u001b[1;33m**\u001b[0m\u001b[0mm\u001b[0m\u001b[1;33m)\u001b[0m\u001b[1;33m\u001b[0m\u001b[1;33m\u001b[0m\u001b[0m\n\u001b[1;32m---> 23\u001b[1;33m             \u001b[0mu_x_vector\u001b[0m\u001b[1;33m=\u001b[0m\u001b[0mnp\u001b[0m\u001b[1;33m.\u001b[0m\u001b[0madd\u001b[0m\u001b[1;33m(\u001b[0m\u001b[0mu_x_vector\u001b[0m\u001b[1;33m,\u001b[0m\u001b[0mnp\u001b[0m\u001b[1;33m.\u001b[0m\u001b[0mmultiply\u001b[0m\u001b[1;33m(\u001b[0m\u001b[0mu\u001b[0m\u001b[1;33m[\u001b[0m\u001b[0mi\u001b[0m\u001b[1;33m]\u001b[0m\u001b[1;33m[\u001b[0m\u001b[0mc\u001b[0m\u001b[1;33m]\u001b[0m\u001b[1;33m**\u001b[0m\u001b[0mm\u001b[0m\u001b[1;33m,\u001b[0m\u001b[0mdata_set\u001b[0m\u001b[1;33m[\u001b[0m\u001b[0mi\u001b[0m\u001b[1;33m]\u001b[0m\u001b[1;33m)\u001b[0m\u001b[1;33m)\u001b[0m \u001b[1;31m#tutaj mu nie pasują rozmay macierzy ale u  to assignation i powinno byc macierza 1x3\u001b[0m\u001b[1;33m\u001b[0m\u001b[1;33m\u001b[0m\u001b[0m\n\u001b[0m\u001b[0;32m     24\u001b[0m         \u001b[0mnew_centers\u001b[0m\u001b[1;33m.\u001b[0m\u001b[0mappend\u001b[0m\u001b[1;33m(\u001b[0m\u001b[0mnp\u001b[0m\u001b[1;33m.\u001b[0m\u001b[0mdivide\u001b[0m\u001b[1;33m(\u001b[0m\u001b[0mu_x_vector\u001b[0m\u001b[1;33m,\u001b[0m\u001b[0mu_scalar\u001b[0m\u001b[1;33m)\u001b[0m\u001b[1;33m)\u001b[0m\u001b[1;33m\u001b[0m\u001b[1;33m\u001b[0m\u001b[0m\n\u001b[0;32m     25\u001b[0m     \u001b[1;32mreturn\u001b[0m \u001b[0mnew_centers\u001b[0m\u001b[1;33m\u001b[0m\u001b[1;33m\u001b[0m\u001b[0m\n",
      "\u001b[1;31mValueError\u001b[0m: operands could not be broadcast together with shapes (3,) (2,) "
     ],
     "ename": "ValueError",
     "evalue": "operands could not be broadcast together with shapes (3,) (2,) ",
     "output_type": "error"
>>>>>>> modifications during first attempt to clustering exercises, % store -r is NOT working
    }
   ],
   "source": [
    "new_assignation_hcm3, new_centers_hcm3 = cluster_hcm(assignation, centers)\n",
    "pd.DataFrame(new_centers_hcm3, columns=['x1','x2'])\n",
    "#calculate_u_three([1,1],new_centers_hcm3)#just to see how does it look like"
   ],
   "metadata": {
    "collapsed": false,
    "pycharm": {
     "name": "#%% \n",
     "is_executing": false
    }
   }
  },
  {
   "cell_type": "markdown",
   "metadata": {
    "pycharm": {
     "name": "#%% md\n"
    }
   },
   "source": [
    "### Plot the results"
   ]
  },
  {
   "cell_type": "code",
<<<<<<< 618ab3556c725e4c090e61c12f73733ec2b5b9d6
   "execution_count": 8,
=======
   "execution_count": 43,
>>>>>>> modifications during first attempt to clustering exercises, % store -r is NOT working
   "metadata": {
    "pycharm": {
     "is_executing": false
    }
   },
   "outputs": [
    {
<<<<<<< 618ab3556c725e4c090e61c12f73733ec2b5b9d6
     "data": {
      "text/plain": "<Figure size 432x288 with 1 Axes>",
      "image/png": "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\n"
     },
     "metadata": {
      "needs_background": "light"
     },
     "output_type": "display_data"
=======
     "traceback": [
      "\u001b[1;31m---------------------------------------------------------------------------\u001b[0m",
      "\u001b[1;31mNameError\u001b[0m                                 Traceback (most recent call last)",
      "\u001b[1;32m<ipython-input-43-5de2ec6d8ec3>\u001b[0m in \u001b[0;36m<module>\u001b[1;34m\u001b[0m\n\u001b[1;32m----> 1\u001b[1;33m \u001b[0mred\u001b[0m \u001b[1;33m=\u001b[0m \u001b[0mdata_set\u001b[0m\u001b[1;33m[\u001b[0m\u001b[0mnp\u001b[0m\u001b[1;33m.\u001b[0m\u001b[0mwhere\u001b[0m\u001b[1;33m(\u001b[0m\u001b[0mnp\u001b[0m\u001b[1;33m.\u001b[0m\u001b[0marray\u001b[0m\u001b[1;33m(\u001b[0m\u001b[0mnew_assignation_hcm3\u001b[0m\u001b[1;33m)\u001b[0m\u001b[1;33m[\u001b[0m\u001b[1;33m:\u001b[0m\u001b[1;33m,\u001b[0m\u001b[1;36m0\u001b[0m\u001b[1;33m]\u001b[0m\u001b[1;33m==\u001b[0m\u001b[1;36m1\u001b[0m\u001b[1;33m)\u001b[0m\u001b[1;33m]\u001b[0m\u001b[1;33m\u001b[0m\u001b[1;33m\u001b[0m\u001b[0m\n\u001b[0m\u001b[0;32m      2\u001b[0m \u001b[0mblue\u001b[0m \u001b[1;33m=\u001b[0m \u001b[0mdata_set\u001b[0m\u001b[1;33m[\u001b[0m\u001b[0mnp\u001b[0m\u001b[1;33m.\u001b[0m\u001b[0mwhere\u001b[0m\u001b[1;33m(\u001b[0m\u001b[0mnp\u001b[0m\u001b[1;33m.\u001b[0m\u001b[0marray\u001b[0m\u001b[1;33m(\u001b[0m\u001b[0mnew_assignation_hcm3\u001b[0m\u001b[1;33m)\u001b[0m\u001b[1;33m[\u001b[0m\u001b[1;33m:\u001b[0m\u001b[1;33m,\u001b[0m\u001b[1;36m1\u001b[0m\u001b[1;33m]\u001b[0m\u001b[1;33m==\u001b[0m\u001b[1;36m1\u001b[0m\u001b[1;33m)\u001b[0m\u001b[1;33m]\u001b[0m\u001b[1;33m\u001b[0m\u001b[1;33m\u001b[0m\u001b[0m\n\u001b[0;32m      3\u001b[0m \u001b[0mgreen\u001b[0m \u001b[1;33m=\u001b[0m \u001b[0mdata_set\u001b[0m\u001b[1;33m[\u001b[0m\u001b[0mnp\u001b[0m\u001b[1;33m.\u001b[0m\u001b[0mwhere\u001b[0m\u001b[1;33m(\u001b[0m\u001b[0mnp\u001b[0m\u001b[1;33m.\u001b[0m\u001b[0marray\u001b[0m\u001b[1;33m(\u001b[0m\u001b[0mnew_assignation_hcm3\u001b[0m\u001b[1;33m)\u001b[0m\u001b[1;33m[\u001b[0m\u001b[1;33m:\u001b[0m\u001b[1;33m,\u001b[0m\u001b[1;36m2\u001b[0m\u001b[1;33m]\u001b[0m\u001b[1;33m==\u001b[0m\u001b[1;36m1\u001b[0m\u001b[1;33m)\u001b[0m\u001b[1;33m]\u001b[0m\u001b[1;33m\u001b[0m\u001b[1;33m\u001b[0m\u001b[0m\n\u001b[0;32m      4\u001b[0m \u001b[1;33m\u001b[0m\u001b[0m\n\u001b[0;32m      5\u001b[0m \u001b[0mfig\u001b[0m\u001b[1;33m,\u001b[0m \u001b[0max\u001b[0m \u001b[1;33m=\u001b[0m \u001b[0mplt\u001b[0m\u001b[1;33m.\u001b[0m\u001b[0msubplots\u001b[0m\u001b[1;33m(\u001b[0m\u001b[1;33m)\u001b[0m\u001b[1;33m\u001b[0m\u001b[1;33m\u001b[0m\u001b[0m\n",
      "\u001b[1;31mNameError\u001b[0m: name 'new_assignation_hcm3' is not defined"
     ],
     "ename": "NameError",
     "evalue": "name 'new_assignation_hcm3' is not defined",
     "output_type": "error"
>>>>>>> modifications during first attempt to clustering exercises, % store -r is NOT working
    }
   ],
   "source": [
    "red = data_set[np.where(np.array(new_assignation_hcm3)[:,0]==1)]\n",
    "blue = data_set[np.where(np.array(new_assignation_hcm3)[:,1]==1)]\n",
    "green = data_set[np.where(np.array(new_assignation_hcm3)[:,2]==1)]\n",
    "\n",
    "fig, ax = plt.subplots()\n",
    "\n",
    "ax.scatter(blue[:,0],blue[:,1],c='blue')\n",
    "ax.scatter(red[:,0],red[:,1],c='red')\n",
    "ax.scatter(green[:,0],green[:,1],c='green')\n",
    "ax.scatter(np.array(new_centers_hcm3)[:,0],np.array(new_centers_hcm3)[:,1],c='black')\n",
    "ax.set(xlabel='Seats count', ylabel='Distance range (km)',\n",
    "       title='Aircrafts (clusters)')\n",
    "ax.grid()\n",
    "plt.show()"
   ]
  },
  {
   "cell_type": "markdown",
   "metadata": {},
   "source": [
    "## Exercise 2: Plot the density clusters\n",
    "\n",
    "Use the code below to plot the results. You can play with the max_distance variable to get more or less groups."
   ]
  },
  {
   "cell_type": "code",
<<<<<<< 618ab3556c725e4c090e61c12f73733ec2b5b9d6
   "execution_count": 9,
=======
   "execution_count": 50,
>>>>>>> modifications during first attempt to clustering exercises, % store -r is NOT working
   "metadata": {
    "pycharm": {
     "is_executing": false
    }
   },
<<<<<<< 618ab3556c725e4c090e61c12f73733ec2b5b9d6
   "outputs": [
    {
     "name": "stdout",
     "text": [
      "[ 1.  1.  1.  1.  1.  1.  2.  2. -1. -1.]\n"
     ],
     "output_type": "stream"
    }
   ],
   "source": [
    "new_assignation_density= np.array([])\n",
=======
   "outputs": [],
   "source": [
    "new_assignation_density = np.array([ 2.,  2.,  2.,  2.,  2.,  2.,  1.,  1., -1., -1.])\n",
>>>>>>> modifications during first attempt to clustering exercises, % store -r is NOT working
    "%store -r new_assignation_density\n",
    "%store -r data_set\n",
    "print(new_assignation_density)"
   ]
  },
  {
   "cell_type": "markdown",
   "metadata": {},
   "source": [
    "### Fill the ``get_group_objects`` method\n",
    "\n",
    "Only one line needs to be updated. The ``get_group_objects`` function should return the objects of a given group."
   ]
  },
  {
   "cell_type": "code",
<<<<<<< 618ab3556c725e4c090e61c12f73733ec2b5b9d6
   "execution_count": 10,
=======
   "execution_count": 55,
>>>>>>> modifications during first attempt to clustering exercises, % store -r is NOT working
   "metadata": {
    "pycharm": {
     "is_executing": false
    }
   },
<<<<<<< 618ab3556c725e4c090e61c12f73733ec2b5b9d6
   "outputs": [],
   "source": [
    "colors_old = ['red','blue','green','orange','black','yellow']\n",
    "D={}\n",
    "def get_group_objects(color_id):\n",
    "    for i in range(len(np.unique(new_assignation_density)-1)):\n",
    "        color_id = i\n",
    "        return np.argwhere(new_assignation_density == i)        \n",
    "\n",
    "    #str(len(np.unique(new_assignation_density))-1)\n",
    "    \n",
    "    #brać kolor z listy i usunąc ktory wzielam\n",
    "        \n",
    "\n"
=======
   "outputs": [
    {
     "name": "stdout",
     "text": [
      "noise points [[8]\n [9]]\n"
     ],
     "output_type": "stream"
    }
   ],
   "source": [
    "colors = ['red','blue','green','orange','black','yellow']\n",
    "    #In the figure below we have the core points of group 1 marked with blue, \n",
    "    # core points of group 2 marked with green and outliers marked with red\n",
    "def get_group_objects(color_id):\n",
    "    if color_id == 'red':\n",
    "        print('noise points', np.argwhere(new_assignation_density == -1.))\n",
    "    elif color_id == 'blue':\n",
    "        print('core points of group 1', np.argwhere(new_assignation_density == 1))\n",
    "    elif color_id == 'green':\n",
    "        print('core points of group 2', np.argwhere(new_assignation_density == 2))\n",
    "    else:\n",
    "        print('no color assigmented')\n",
    "        \n",
    "#get_group_objects('red')\n"
>>>>>>> modifications during first attempt to clustering exercises, % store -r is NOT working
   ]
  },
  {
   "cell_type": "markdown",
   "metadata": {},
   "source": [
    "### Fill the plot code\n",
    "\n",
    "If done properly the code below should return a plot of two clusters and the noise."
   ]
  },
  {
   "cell_type": "code",
<<<<<<< 618ab3556c725e4c090e61c12f73733ec2b5b9d6
   "execution_count": 11,
=======
   "execution_count": null,
>>>>>>> modifications during first attempt to clustering exercises, % store -r is NOT working
   "metadata": {
    "pycharm": {
     "is_executing": false
    }
   },
<<<<<<< 618ab3556c725e4c090e61c12f73733ec2b5b9d6
   "outputs": [
    {
     "traceback": [
      "\u001b[1;31m---------------------------------------------------------------------------\u001b[0m",
      "\u001b[1;31mIndexError\u001b[0m                                Traceback (most recent call last)",
      "\u001b[1;32m<ipython-input-11-c38e282ac62d>\u001b[0m in \u001b[0;36m<module>\u001b[1;34m\u001b[0m\n\u001b[0;32m      6\u001b[0m \u001b[1;32mfor\u001b[0m \u001b[0mgroup\u001b[0m \u001b[1;32min\u001b[0m \u001b[0mnp\u001b[0m\u001b[1;33m.\u001b[0m\u001b[0munique\u001b[0m\u001b[1;33m(\u001b[0m\u001b[0massigned_groups\u001b[0m\u001b[1;33m)\u001b[0m\u001b[1;33m:\u001b[0m\u001b[1;33m\u001b[0m\u001b[1;33m\u001b[0m\u001b[0m\n\u001b[0;32m      7\u001b[0m     \u001b[0msmall_set\u001b[0m \u001b[1;33m=\u001b[0m \u001b[0mget_group_objects\u001b[0m\u001b[1;33m(\u001b[0m\u001b[0mgroup\u001b[0m\u001b[1;33m)\u001b[0m\u001b[1;33m\u001b[0m\u001b[1;33m\u001b[0m\u001b[0m\n\u001b[1;32m----> 8\u001b[1;33m     \u001b[0max\u001b[0m\u001b[1;33m.\u001b[0m\u001b[0mscatter\u001b[0m\u001b[1;33m(\u001b[0m\u001b[0msmall_set\u001b[0m\u001b[1;33m[\u001b[0m\u001b[1;33m:\u001b[0m\u001b[1;33m,\u001b[0m\u001b[1;36m0\u001b[0m\u001b[1;33m]\u001b[0m\u001b[1;33m,\u001b[0m\u001b[0msmall_set\u001b[0m\u001b[1;33m[\u001b[0m\u001b[1;33m:\u001b[0m\u001b[1;33m,\u001b[0m\u001b[1;36m1\u001b[0m\u001b[1;33m]\u001b[0m\u001b[1;33m,\u001b[0m\u001b[0mc\u001b[0m\u001b[1;33m=\u001b[0m\u001b[0mcolors\u001b[0m\u001b[1;33m.\u001b[0m\u001b[0mpop\u001b[0m\u001b[1;33m(\u001b[0m\u001b[1;36m0\u001b[0m\u001b[1;33m)\u001b[0m\u001b[1;33m)\u001b[0m\u001b[1;33m\u001b[0m\u001b[1;33m\u001b[0m\u001b[0m\n\u001b[0m\u001b[0;32m      9\u001b[0m     \u001b[1;32mfor\u001b[0m \u001b[0mcircle\u001b[0m \u001b[1;32min\u001b[0m \u001b[0msmall_set\u001b[0m\u001b[1;33m:\u001b[0m\u001b[1;33m\u001b[0m\u001b[1;33m\u001b[0m\u001b[0m\n\u001b[0;32m     10\u001b[0m         \u001b[0mcircle1\u001b[0m \u001b[1;33m=\u001b[0m \u001b[0mplt\u001b[0m\u001b[1;33m.\u001b[0m\u001b[0mCircle\u001b[0m\u001b[1;33m(\u001b[0m\u001b[1;33m(\u001b[0m\u001b[0mcircle\u001b[0m\u001b[1;33m[\u001b[0m\u001b[1;36m0\u001b[0m\u001b[1;33m]\u001b[0m\u001b[1;33m,\u001b[0m\u001b[0mcircle\u001b[0m\u001b[1;33m[\u001b[0m\u001b[1;36m1\u001b[0m\u001b[1;33m]\u001b[0m\u001b[1;33m)\u001b[0m\u001b[1;33m,\u001b[0m \u001b[1;36m0.25\u001b[0m\u001b[1;33m,\u001b[0m \u001b[0mcolor\u001b[0m\u001b[1;33m=\u001b[0m\u001b[1;34m'green'\u001b[0m\u001b[1;33m,\u001b[0m \u001b[0mfill\u001b[0m\u001b[1;33m=\u001b[0m\u001b[1;32mFalse\u001b[0m\u001b[1;33m)\u001b[0m\u001b[1;33m\u001b[0m\u001b[1;33m\u001b[0m\u001b[0m\n",
      "\u001b[1;31mIndexError\u001b[0m: index 1 is out of bounds for axis 1 with size 1"
     ],
     "ename": "IndexError",
     "evalue": "index 1 is out of bounds for axis 1 with size 1",
     "output_type": "error"
    },
    {
     "data": {
      "text/plain": "<Figure size 432x288 with 1 Axes>",
      "image/png": "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\n"
     },
     "metadata": {
      "needs_background": "light"
     },
     "output_type": "display_data"
    }
   ],
=======
   "outputs": [],
>>>>>>> modifications during first attempt to clustering exercises, % store -r is NOT working
   "source": [
    "colors = ['red','blue','green','orange','black','yellow']\n",
    "\n",
    "fig, ax = plt.subplots()\n",
    "\n",
    "assigned_groups = new_assignation_density\n",
    "for group in np.unique(assigned_groups):\n",
    "    small_set = get_group_objects(group) \n",
    "    ax.scatter(small_set[:,0],small_set[:,1],c=colors.pop(0))\n",
    "    for circle in small_set:\n",
    "        circle1 = plt.Circle((circle[0],circle[1]), 0.25, color='green', fill=False)        \n",
    "        ax.add_artist(circle1)\n",
    "    \n",
    "ax.set(xlabel='Seats count', ylabel='Distance range (km)',title='Aircrafts (clusters)')\n",
    "ax.grid()\n",
    "plt.show()"
   ]
  },
  {
   "cell_type": "markdown",
   "metadata": {},
   "source": [
    "## Exercise 3: Build a dendrogram using dendrograms_history and pydot (done)\n",
    "\n",
    "In this exercise we gonna use the variable dendrograms_history and pydot. Below we restore the variable and initialize the dendrogram graph."
   ]
  },
  {
   "cell_type": "code",
   "execution_count": null,
   "metadata": {
    "pycharm": {
     "is_executing": false
    }
   },
   "outputs": [],
   "source": [
    "dendrogram_hist_diana= []\n",
    "%store -r dendrogram_hist_diana\n"
   ]
  },
  {
   "cell_type": "markdown",
   "metadata": {},
   "source": [
    "### Fill ``show_tree_divisive`` function\n",
    "\n",
    "The function show_tree_divisive goes through each child node and build and edge between.\n",
    "#Zrobione na wykładzie"
   ]
  },
  {
   "cell_type": "code",
   "execution_count": null,
   "metadata": {
    "pycharm": {
     "is_executing": false
    }
   },
   "outputs": [],
   "source": [
    "import pydot\n",
    "tree = pydot.Dot(graph_type='graph')\n",
    "def show_tree_divisive():\n",
    "    for item in dendrogram_hist_diana:\n",
    "        for child in item[0][\"childs\"]:\n",
<<<<<<< 618ab3556c725e4c090e61c12f73733ec2b5b9d6
    "            new_edge = pydot.Edge(str(item[0][\"acesor\"]),str(child))\n",
    "            tree.add_edge(new_edge)\n",
=======
    "            # fill the gap (2 lines)\n",
    "            #to jest zrobione na wykłądzie?\n",
>>>>>>> modifications during first attempt to clustering exercises, % store -r is NOT working
    "    tree.write('tree_diana.png',format='png')\n",
    "\n",
    "# def show_tree_divisive():\n",
    "#     for item in dendrogram_hist_diana:\n",
    "#         for child in item[0][\"childs\"]:\n",
    "#             pass\n",
    "#             # fill the gap (2 lines)\n",
    "#             #to jest zrobione na wykłądzie?\n",
    "#     tree.write('tree_diana.png',format='png')\n",
    "    \n",
    "show_tree_divisive()"
   ]
  },
  {
   "cell_type": "markdown",
   "metadata": {},
   "source": [
    "Take a look if you did it properly:"
   ]
  },
  {
   "cell_type": "code",
   "execution_count": null,
   "metadata": {
    "pycharm": {
     "is_executing": false
    }
   },
   "outputs": [],
   "source": [
    "from IPython.display import Image\n",
    "Image(filename='tree_diana.png') "
   ]
  },
  {
   "cell_type": "markdown",
   "metadata": {},
   "source": [
    "## Exercise 4: Implement the $s_{2}$ metric\n",
    "\n",
    "The $s_{2}$ metric gives a better understanding of the distances between centers.\n",
    "\n",
    "\\begin{equation}\n",
    " s_{2}(c_{i},c_{j})=d(c_{i},c_{j}).\n",
    "\\end{equation}\n",
    "\n",
    "Let's restore the centers from HCM grouped by two and initialize the values for three groups as below."
   ]
  },
  {
   "cell_type": "code",
   "execution_count": null,
   "metadata": {
    "pycharm": {
     "is_executing": false
    }
   },
   "outputs": [],
   "source": [
    "new_centers_hcm = []\n",
    "%store -r new_centers_hcm\n",
    "\n",
    "new_centers_hcm = np.array(new_centers_hcm)\n",
    "new_centers_hcm3 = np.array([[0.42239686, 0.38503185],[0.07858546, 0.17832272],[0.82907662, 0.97059448]])"
   ]
  },
  {
   "cell_type": "markdown",
   "metadata": {},
   "source": [
    "Measure the distance between each center."
   ]
  },
  {
   "cell_type": "code",
<<<<<<< 618ab3556c725e4c090e61c12f73733ec2b5b9d6
   "execution_count": null,
=======
   "execution_count": 56,
>>>>>>> modifications during first attempt to clustering exercises, % store -r is NOT working
   "metadata": {
    "pycharm": {
     "is_executing": false
    }
   },
   "outputs": [],
   "source": [
    "def calculate_s_2(centers): \n",
<<<<<<< 618ab3556c725e4c090e61c12f73733ec2b5b9d6
    "    # It is the simplest measure so far as it is not even a sum. \n",
=======
    "    #It is the simplest measure so far as it is not even a sum. \n",
>>>>>>> modifications during first attempt to clustering exercises, % store -r is NOT working
    "    # We need two loops to go through the centroids\n",
    "    s2 = []\n",
    "    for center_1 in range(len(centers)):\n",
    "        for center_2 in range(len(centers)):\n",
<<<<<<< 618ab3556c725e4c090e61c12f73733ec2b5b9d6
    "            d = calculate_distance(center_1, center_2)\n",
    "            s2.append(d)\n",
=======
    "            calculate_distance(center_1, center_2)\n",
    "            # fill the code here (3 lines)\n",
>>>>>>> modifications during first attempt to clustering exercises, % store -r is NOT working
    "    return s2"
   ]
  },
  {
   "cell_type": "markdown",
   "metadata": {},
   "source": [
    "## Exercise 5: Modify the output image with borders between clusters\n",
    "\n",
    "We use the ``Segmentation`` class as in previous example.\n",
    "#Nie obowiązkowe"
   ]
  },
  {
   "cell_type": "code",
   "execution_count": null,
   "metadata": {
    "pycharm": {
     "is_executing": false
    }
   },
   "outputs": [],
   "source": [
    "class Segmentation:\n",
    "\n",
    "    def __init__(self, feature_matrix, groups):\n",
    "        self.__data_set = feature_matrix\n",
    "        self.__groups = groups\n",
    "        self.__space=[[0, 255], [0, 255], [0, 255]]\n",
    "        self.__error_margin = 0.5\n",
    "        self.assignation = np.zeros((len(self.__data_set), self.__groups))\n",
    "        self.centers = []\n",
    "        self.select_centers()\n",
    "\n",
    "    def select_centers(self):\n",
    "        if len(self.centers) == 0:\n",
    "            iter=0\n",
    "            while iter<self.__groups:\n",
    "                self.centers.append(((random.randrange(0, 255)*1.0/255),\n",
    "                                     (random.randrange(0, 255)*1.0/255),\n",
    "                                     (random.randrange(0, 255)*1.0/255)))\n",
    "                iter=iter+1\n",
    "\n",
    "    def calculate_distance(self, x, v):\n",
    "        return sqrt((x[0]-v[0])**2+(x[1]-v[1])**2+(x[2]-v[2])**2)\n",
    "\n",
    "    def calculate_u(self, x, i):\n",
    "        smallest_distance = float(self.calculate_distance(x, self.centers[0]))\n",
    "        smallest_id = 0\n",
    "        for i in range(1, self.__groups):\n",
    "            distance = self.calculate_distance(x, self.centers[i])\n",
    "            if distance < smallest_distance:\n",
    "                smallest_id = i\n",
    "                smallest_distance = distance\n",
    "        distance = np.zeros(self.__groups)\n",
    "        distance[smallest_id]=1\n",
    "        return distance\n",
    "\n",
    "    def calculate_new_centers(self, u):\n",
    "        new_centers=[]\n",
    "        for c in range(self.__groups):\n",
    "            u_x_vector = np.zeros(len(self.centers[0]))\n",
    "            u_scalar = 0\n",
    "            for i in range(len(u)):\n",
    "                u_scalar = u_scalar + u[i][c]\n",
    "                u_x_vector = np.add(u_x_vector, np.multiply(u[i][c], self.__data_set[i]))\n",
    "            new_centers.append(np.divide(u_x_vector,u_scalar))\n",
    "        self.centers = new_centers\n",
    "\n",
    "    def calculate_differences(self,new_assignation):\n",
    "        diff=0\n",
    "        for i in range(len(self.assignation)):\n",
    "            for j in range(self.__groups):\n",
    "                diff = diff + abs(float(new_assignation[i][j]) - float(self.assignation[i][j]))\n",
    "        return diff\n",
    "\n",
    "    def do_segmentation(self):\n",
    "        difference_limit_not_achieved = True\n",
    "        iter = 0\n",
    "        while difference_limit_not_achieved:\n",
    "            new_assignation = []\n",
    "            for i in range(len(self.__data_set)):\n",
    "                new_assignation.append(self.calculate_u(self.__data_set[i], iter))\n",
    "            self.calculate_new_centers(new_assignation)\n",
    "\n",
    "            if iter > 0:\n",
    "                if self.calculate_differences(new_assignation) < self.__error_margin:\n",
    "                    difference_limit_not_achieved=False\n",
    "            self.assignation = new_assignation\n",
    "            iter = iter + 1\n",
    "\n",
    "    def get_results(self):\n",
    "        return self.centers, self.assignation"
   ]
  },
  {
   "cell_type": "markdown",
   "metadata": {},
   "source": [
    "### Change ``save_image`` method \n",
    "\n",
    "Add an if statement in the code below. It should consider the change of ``current_pixel`` variable. Please keep in mind that there should be three states considered."
   ]
  },
  {
   "cell_type": "code",
   "execution_count": null,
   "metadata": {
    "pycharm": {
     "is_executing": false
    }
   },
   "outputs": [],
   "source": [
    "class ImageConversion:\n",
    "\n",
    "    def get_image_from_url(self, img_url):\n",
    "        image = open(img_url,'rb')\n",
    "        return img.imread(image)\n",
    "\n",
    "    def get_unique_colours(self, image_matrix):\n",
    "        feature_matrix = []\n",
    "        for i in range(len(image_matrix)):\n",
    "            for j in range(len(image_matrix[0])):\n",
    "                feature_matrix.append(image_matrix[i, j])\n",
    "        feature_matrix_np = np.array(feature_matrix)\n",
    "        uniques, index = np.unique([str(i) for i in feature_matrix_np], return_index=True)\n",
    "        return feature_matrix_np[index], feature_matrix\n",
    "\n",
    "    def save_image(self, size, pixel_matrix, unique_matrix, assignation_matrix, colours, output):\n",
    "        image_out = Image.new(\"RGB\", size)\n",
    "        pixels = []\n",
    "        current_pixel = None ## added\n",
    "        for i in range(len(pixel_matrix)):\n",
    "            pixel_list = pixel_matrix[i].tolist()\n",
    "            for j in range(len(unique_matrix)):\n",
    "                if (pixel_list == unique_matrix[j].tolist()):\n",
    "                    for k in range(len(colours)):\n",
    "                        if assignation_matrix[j][k] == 1:\n",
    "                            segmented_colours = [int(i) for i in (colours[k] * 255)]\n",
    "                            # fill here (about 6-7 lines)\n",
    "        image_out.putdata(pixels)\n",
    "        image_out.save(output)\n",
    "        \n",
    "    def do_segmentation(self):\n",
    "        difference_limit_not_achieved = True\n",
    "        iter = 0\n",
    "        while difference_limit_not_achieved:\n",
    "            new_assignation = []\n",
    "            for i in range(len(self.__data_set)):\n",
    "                new_assignation.append(self.calculate_u(self.__data_set[i], iter))\n",
    "            self.calculate_new_centers(new_assignation)\n",
    "            if iter > 0:\n",
    "                if self.calculate_differences(new_assignation) < self.__error_margin:\n",
    "                    difference_limit_not_achieved=False\n",
    "            self.assignation = new_assignation\n",
    "            iter = iter + 1\n",
    "\n",
    "    def get_results(self):\n",
    "        return self.centers, self.assignation        "
   ]
  },
  {
   "cell_type": "markdown",
   "metadata": {},
   "source": [
    "Execute segmentation without any changes:"
   ]
  },
  {
   "cell_type": "code",
   "execution_count": null,
   "metadata": {
    "pycharm": {
     "is_executing": false
    }
   },
   "outputs": [],
   "source": [
    "image_to_segment = \"images/logo_krakow.png\"\n",
    "image_converter = ImageConversion()\n",
    "image_data = image_converter.get_image_from_url(image_to_segment)\n",
    "unique_image_data, image_data_list = image_converter.get_unique_colours(image_data)\n",
    "\n",
    "groups = 3\n",
    "\n",
    "segmentation = Segmentation(unique_image_data, groups)\n",
    "segmentation.do_segmentation()\n",
    "centers, assignation_matrix = segmentation.get_results()\n",
    "\n",
    "image_size = (232, 258)\n",
    "image_converter.save_image(image_size, image_data_list, unique_image_data, assignation_matrix, centers, \"images/segmented.png\")"
   ]
  },
  {
   "cell_type": "markdown",
   "metadata": {},
   "source": [
    "The image should have black broders between one and the other segment."
   ]
  },
  {
   "cell_type": "code",
   "execution_count": null,
   "metadata": {
    "pycharm": {
     "is_executing": false
    }
   },
   "outputs": [],
   "source": [
    "from IPython.display import Image\n",
    "Image(\"images/segmented.png\")"
   ]
  }
 ],
 "metadata": {
  "kernelspec": {
   "name": "conda-root-py",
   "language": "python",
   "display_name": "Python [conda env:root]"
  },
  "language_info": {
   "codemirror_mode": {
    "name": "ipython",
    "version": 3
   },
   "file_extension": ".py",
   "mimetype": "text/x-python",
   "name": "python",
   "nbconvert_exporter": "python",
   "pygments_lexer": "ipython3",
   "version": "3.7.3"
  },
  "pycharm": {
   "stem_cell": {
    "cell_type": "raw",
    "source": [],
    "metadata": {
     "collapsed": false
    }
   }
  }
 },
 "nbformat": 4,
 "nbformat_minor": 4
}