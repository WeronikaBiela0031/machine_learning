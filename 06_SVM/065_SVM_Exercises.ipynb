{
 "cells": [
  {
   "cell_type": "markdown",
   "metadata": {},
   "source": [
    "# Exercises\n",
    "\n",
    "In this section we have two exercises:\n",
    "1. Implement the polynomial kernel.\n",
    "2. Implement the multiclass C-SVM."
   ]
  },
  {
   "cell_type": "markdown",
   "metadata": {},
   "source": [
    "## Polynomial kernel\n",
    "\n",
    "You need to extend the ``build_kernel`` function and implement the polynomial kernel if the ``kernel_type`` is set to 'poly'. The equation that needs to be implemented:\n",
    "\\begin{equation}\n",
    "K=(X^{T}*Y)^{d}\n",
    "\\end{equation}\n",
    "\n",
    "$K(x_i,x_j) = (\\sum_k x_{ik}x_{jk} +a)^d$"
   ]
  },
  {
   "cell_type": "code",
   "execution_count": 13,
   "metadata": {
    "pycharm": {
     "is_executing": false
    }
   },
   "outputs": [],
   "source": [
    "import numpy as np\n",
    "def build_kernel(data_set, kernel_type='linear'):\n",
    "    kernel = np.dot(data_set, data_set.T)\n",
    "    if kernel_type == 'rbf':\n",
    "        sigma = 1.0\n",
    "        objects_count = len(data_set)\n",
    "        b = np.ones((len(data_set), 1))\n",
    "        kernel -= 0.5 * (np.dot((np.diag(kernel)*np.ones((1, objects_count))).T, b.T)\n",
    "                         + np.dot(b, (np.diag(kernel) * np.ones((1, objects_count))).T.T))\n",
    "        kernel = np.exp(kernel / (2. * sigma ** 2))\n",
    "    elif kernel_type == 'poly':\n",
    "        degree = 2.0\n",
    "        coefficient = 0.5\n",
    "        sigma = 1.0\n",
    "        objects_count = len(data_set)\n",
    "        b = np.ones((len(data_set), 1))\n",
    "        i = 0\n",
    "        kernel = np.dot((np.diag(kernel)*np.ones((1, objects_count))).T, b.T)+ np.dot(b, (np.diag(kernel) * np.ones((1, objects_count))).T.T) + coefficient *np.ones((1,objects_count))\n",
    "        if i< degree-1:\n",
    "            kernel = kernel.dot(kernel)\n",
    "            i +=1\n",
    "        kernel = np.exp(kernel / (2. * sigma ** 2))\n",
    "    return kernel"
   ]
  },
  {
   "cell_type": "markdown",
   "metadata": {},
   "source": [
    "## Implement a multiclass C-SVM\n",
    "\n",
    "Use the classification method that we used in notebook 7.3 and IRIS dataset to build a multiclass C-SVM classifier. Most implementation is about a function that will return the proper data set that need to be used for the prediction. You need to implement:\n",
    "- ``choose_set_for_label``\n",
    "- ``get_labels_count``"
   ]
  },
  {
   "cell_type": "code",
   "execution_count": 14,
   "metadata": {
    "pycharm": {
     "is_executing": false
    }
   },
   "outputs": [],
   "source": [
    "%store -r data_set\n",
    "%store -r labels\n",
    "%store -r test_data_set\n",
    "%store -r test_labels\n",
    "%store -r unique_labels\n",
    "\n",
    "\n",
    "def choose_set_for_label(data_set, label):\n",
    "    # your code here\n",
    "    return train_data_set, test_data_set, train_labels, test_labels"
   ]
  },
  {
   "cell_type": "code",
   "execution_count": 15,
   "metadata": {
    "pycharm": {
     "is_executing": false
    }
   },
   "outputs": [],
   "source": [
    "def get_labels_count(data_set):\n",
    "    return labels_count"
   ]
  },
  {
   "cell_type": "markdown",
   "metadata": {
    "pycharm": {
     "is_executing": false,
     "name": "#%% md\n"
    }
   },
   "source": [
    "Use the code that we have implemented earlier:"
   ]
  },
  {
   "cell_type": "code",
   "execution_count": 16,
   "metadata": {
    "pycharm": {
     "is_executing": false
    }
   },
   "outputs": [],
   "source": [
    "def train(train_data_set, train_labels, kernel_type='linear', C=10, threshold=1e-5):\n",
    "    kernel = build_kernel(train_data_set, kernel_type=kernel_type)\n",
    "\n",
    "    P = train_labels * train_labels.transpose() * kernel\n",
    "    q = -np.ones((objects_count, 1))\n",
    "    G = np.concatenate((np.eye(objects_count), -np.eye(objects_count)))\n",
    "    h = np.concatenate((C * np.ones((objects_count, 1)), np.zeros((objects_count, 1))))\n",
    "\n",
    "    A = train_labels.reshape(1, objects_count)\n",
    "    A = A.astype(float)\n",
    "    b = 0.0\n",
    "\n",
    "    sol = cvxopt.solvers.qp(cvxopt.matrix(P), cvxopt.matrix(q), cvxopt.matrix(G), cvxopt.matrix(h), cvxopt.matrix(A), cvxopt.matrix(b))\n",
    "\n",
    "    lambdas = np.array(sol['x'])\n",
    "\n",
    "    support_vectors_id = np.where(lambdas > threshold)[0]\n",
    "    vector_number = len(support_vectors_id)\n",
    "    support_vectors = train_data_set[support_vectors_id, :]\n",
    "\n",
    "    lambdas = lambdas[support_vectors_id]\n",
    "    targets = train_labels[support_vectors_id]\n",
    "\n",
    "    b = np.sum(targets)\n",
    "    for n in range(vector_number):\n",
    "        b -= np.sum(lambdas * targets * np.reshape(kernel[support_vectors_id[n], support_vectors_id], (vector_number, 1)))\n",
    "    b /= len(lambdas)\n",
    "\n",
    "    return lambdas, support_vectors, support_vectors_id, b, targets, vector_number\n",
    "\n",
    "def build_kernel(data_set, kernel_type='linear'):\n",
    "    kernel = np.dot(data_set, data_set.T)\n",
    "    if kernel_type == 'rbf':\n",
    "        sigma = 1.0\n",
    "        objects_count = len(data_set)\n",
    "        b = np.ones((len(data_set), 1))\n",
    "        kernel -= 0.5 * (np.dot((np.diag(kernel)*np.ones((1, objects_count))).T, b.T)\n",
    "                         + np.dot(b, (np.diag(kernel) * np.ones((1, objects_count))).T.T))\n",
    "        kernel = np.exp(kernel / (2. * sigma ** 2))\n",
    "    return kernel\n",
    "\n",
    "def classify_rbf(test_data_set, train_data_set, lambdas, targets, b, vector_number, support_vectors, support_vectors_id):\n",
    "    kernel = np.dot(test_data_set, support_vectors.T)\n",
    "    sigma = 1.0\n",
    "    #K = np.dot(test_data_set, support_vectors.T)\n",
    "    #kernel = build_kernel(train_data_set, kernel_type='rbf')\n",
    "    c = (1. / sigma * np.sum(test_data_set ** 2, axis=1) * np.ones((1, np.shape(test_data_set)[0]))).T\n",
    "    c = np.dot(c, np.ones((1, np.shape(kernel)[1])))\n",
    "    #aa = np.dot((np.diag(K)*np.ones((1,len(test_data_set)))).T[support_vectors_id], np.ones((1, np.shape(K)[0]))).T\n",
    "    sv = (np.diag(np.dot(train_data_set, train_data_set.T))*np.ones((1,len(train_data_set)))).T[support_vectors_id]\n",
    "    aa = np.dot(sv,np.ones((1,np.shape(kernel)[0]))).T\n",
    "    kernel = kernel - 0.5 * c - 0.5 * aa\n",
    "    kernel = np.exp(kernel / (2. * sigma ** 2))\n",
    "\n",
    "    y = np.zeros((np.shape(test_data_set)[0], 1))\n",
    "    for j in range(np.shape(test_data_set)[0]):\n",
    "        for i in range(vector_number):\n",
    "            y[j] += lambdas[i] * targets[i] * kernel[j, i]\n",
    "        y[j] += b\n",
    "    return np.sign(y)"
   ]
  },
  {
   "cell_type": "code",
   "execution_count": 17,
   "metadata": {
    "pycharm": {
     "is_executing": false
    }
   },
   "outputs": [
    {
     "traceback": [
      "\u001b[1;31m---------------------------------------------------------------------------\u001b[0m",
      "\u001b[1;31mNameError\u001b[0m                                 Traceback (most recent call last)",
      "\u001b[1;32m<ipython-input-17-c6013775cc85>\u001b[0m in \u001b[0;36m<module>\u001b[1;34m\u001b[0m\n\u001b[0;32m      1\u001b[0m \u001b[1;31m# modify this part\u001b[0m\u001b[1;33m\u001b[0m\u001b[1;33m\u001b[0m\u001b[1;33m\u001b[0m\u001b[0m\n\u001b[1;32m----> 2\u001b[1;33m \u001b[0mlambdas\u001b[0m\u001b[1;33m,\u001b[0m \u001b[0msupport_vectors\u001b[0m\u001b[1;33m,\u001b[0m \u001b[0msupport_vectors_id\u001b[0m\u001b[1;33m,\u001b[0m \u001b[0mb\u001b[0m\u001b[1;33m,\u001b[0m \u001b[0mtargets\u001b[0m\u001b[1;33m,\u001b[0m \u001b[0mvector_number\u001b[0m \u001b[1;33m=\u001b[0m \u001b[0mtrain\u001b[0m\u001b[1;33m(\u001b[0m\u001b[0mtrain_data_set\u001b[0m\u001b[1;33m,\u001b[0m \u001b[0mtrain_labels\u001b[0m\u001b[1;33m,\u001b[0m \u001b[0mkernel_type\u001b[0m\u001b[1;33m=\u001b[0m\u001b[1;34m'rbf'\u001b[0m\u001b[1;33m)\u001b[0m\u001b[1;33m\u001b[0m\u001b[1;33m\u001b[0m\u001b[0m\n\u001b[0m\u001b[0;32m      3\u001b[0m \u001b[0mpredicted\u001b[0m \u001b[1;33m=\u001b[0m \u001b[0mclassify_rbf\u001b[0m\u001b[1;33m(\u001b[0m\u001b[0mtest_data_set\u001b[0m\u001b[1;33m,\u001b[0m \u001b[0mtrain_data_set\u001b[0m\u001b[1;33m,\u001b[0m \u001b[0mlambdas\u001b[0m\u001b[1;33m,\u001b[0m \u001b[0mtargets\u001b[0m\u001b[1;33m,\u001b[0m \u001b[0mb\u001b[0m\u001b[1;33m,\u001b[0m \u001b[0mvector_number\u001b[0m\u001b[1;33m,\u001b[0m \u001b[0msupport_vectors\u001b[0m\u001b[1;33m,\u001b[0m \u001b[0msupport_vectors_id\u001b[0m\u001b[1;33m)\u001b[0m\u001b[1;33m\u001b[0m\u001b[1;33m\u001b[0m\u001b[0m\n\u001b[0;32m      4\u001b[0m \u001b[0mpredicted\u001b[0m \u001b[1;33m=\u001b[0m \u001b[0mlist\u001b[0m\u001b[1;33m(\u001b[0m\u001b[0mpredicted\u001b[0m\u001b[1;33m.\u001b[0m\u001b[0mastype\u001b[0m\u001b[1;33m(\u001b[0m\u001b[0mint\u001b[0m\u001b[1;33m)\u001b[0m\u001b[1;33m)\u001b[0m\u001b[1;33m\u001b[0m\u001b[1;33m\u001b[0m\u001b[0m\n\u001b[0;32m      5\u001b[0m \u001b[1;33m\u001b[0m\u001b[0m\n",
      "\u001b[1;31mNameError\u001b[0m: name 'train_data_set' is not defined"
     ],
     "ename": "NameError",
     "evalue": "name 'train_data_set' is not defined",
     "output_type": "error"
    }
   ],
   "source": [
    "# modify this part \n",
    "lambdas, support_vectors, support_vectors_id, b, targets, vector_number = train(train_data_set, train_labels, kernel_type='rbf')\n",
    "predicted = classify_rbf(test_data_set, train_data_set, lambdas, targets, b, vector_number, support_vectors, support_vectors_id)\n",
    "predicted = list(predicted.astype(int))\n",
    "\n",
    "from sklearn.metrics import accuracy_score\n",
    "\n",
    "print(accuracy_score(predicted, test_labels))"
   ]
  }
 ],
 "metadata": {
  "kernelspec": {
   "name": "conda-root-py",
   "language": "python",
   "display_name": "Python [conda env:root]"
  },
  "language_info": {
   "codemirror_mode": {
    "name": "ipython",
    "version": 3
   },
   "file_extension": ".py",
   "mimetype": "text/x-python",
   "name": "python",
   "nbconvert_exporter": "python",
   "pygments_lexer": "ipython3",
   "version": "3.7.3"
  },
  "pycharm": {
   "stem_cell": {
    "cell_type": "raw",
    "source": [],
    "metadata": {
     "collapsed": false
    }
   }
  }
 },
 "nbformat": 4,
 "nbformat_minor": 4
}