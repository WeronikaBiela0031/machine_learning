{
 "cells": [
  {
   "cell_type": "markdown",
   "metadata": {},
   "source": [
    "# Exercises\n",
    "\n",
    "There are three exercises in this notebook:\n",
    "\n",
    "1. Use the cross-validation method to test the linear regression with different $\\alpha$ values, at least three.\n",
    "2. Implement based on the Ridge regression example, the Lasso regression.\n",
    "3. Extend the Fisher's classifier to work with two features. Use the class as the $y$."
   ]
  },
  {
   "cell_type": "markdown",
   "metadata": {},
   "source": [
    "## 1. Cross-validation linear regression\n",
    "\n",
    "You need to change the variable ``alpha`` to be a list of alphas. \n",
    "Next do a loop and finally compare the results."
   ]
  },
  {
   "cell_type": "code",
   "execution_count": 8,
   "metadata": {
    "pycharm": {
     "is_executing": false
    }
   },
   "outputs": [
    {
     "data": {
      "text/plain": "<Figure size 432x288 with 1 Axes>",
      "image/png": "[encoded data removed]"
     },
     "metadata": {
      "needs_background": "light"
     },
     "output_type": "display_data"
    }
   ],
   "source": [
    "import numpy as np\n",
    "import matplotlib.pyplot as plt\n",
    "def reg_predict(inputs, w, b):\n",
    "    results = []\n",
    "    for inp in inputs:\n",
    "        results.append(inp*w+b)\n",
    "    return results\n",
    "\n",
    "x0 = np.array([188, 181, 197, 168, 167, 187, 178, 194, 140, 176, 168, 192, 173, 142, 176]).reshape(-1, 1).reshape(15,1)\n",
    "y = np.array([141, 106, 149, 59, 79, 136, 65, 136, 52, 87, 115, 140, 82, 69, 121]).reshape(-1, 1).reshape(15,1)\n",
    "\n",
    "x = np.asmatrix(np.c_[np.ones((15,1)),x0])\n",
    "\n",
    "I = np.identity(2)\n",
    "alpha = [x/5 for x in range(5)]\n",
    "w_list = []\n",
    "for a in alpha:\n",
    "    # add 1-3 line of code here\n",
    "    w = np.linalg.inv(x.T*x + a * I)*x.T*y\n",
    "    w_list.append(w.ravel())\n",
    "\n",
    "\n",
    "# add 1-3 lines to compare the results\n",
    "plt.scatter(x0.flatten(), y.flatten(),color='g', label=\"data\")\n",
    "i = 0\n",
    "\n",
    "for a in alpha:\n",
    "    label_id = \"alpha =\"+str(a)\n",
    "    plt.plot(x0, reg_predict(x0.flatten(), w_list[i][0,1], w_list[i][0,0]), label=label_id)\n",
    "    i+=1\n",
    "\n",
    "plt.legend(framealpha=1, frameon=True)\n",
    "plt.show()\n",
    "# plt.plot(x, w[0])\n"
   ]
  },
  {
   "cell_type": "markdown",
   "metadata": {},
   "source": [
    "## 2. Implement based on the Ridge regression example, the Lasso regression.\n",
    "\n",
    "You need only update the compare the results with the sklearn results. You should get\n",
    "[1.61776499, -180.8579086]."
   ]
  },
  {
   "cell_type": "code",
   "execution_count": 9,
   "outputs": [
    {
     "name": "stdout",
     "text": [
      "Wartości współczynników z poprzedniego zadanka dla alpha 0.0 (Dlaczego nie dla 0.1?)\n[[-180.92401772    1.61814247]]\n"
     ],
     "output_type": "stream"
    }
   ],
   "source": [
    "print(\"Wartości współczynników z poprzedniego zadanka dla alpha 0.0 (Dlaczego nie dla 0.1?)\")\n",
    "print(w_list[0])\n"
   ],
   "metadata": {
    "collapsed": false,
    "pycharm": {
     "name": "#%%\n",
     "is_executing": false
    }
   }
  },
  {
   "cell_type": "code",
   "execution_count": 10,
   "metadata": {
    "pycharm": {
     "is_executing": false
    }
   },
   "outputs": [
    {
     "name": "stdout",
     "text": [
      "Wartości współczynników dla alpha 0.1 = [[-101.72397081    1.16978757]]\n"
     ],
     "output_type": "stream"
    }
   ],
   "source": [
    "x = np.array([188, 181, 197, 168, 167, 187, 178, 194, 140, 176, 168, 192, 173, 142, 176]).reshape(-1, 1).reshape(15,1)\n",
    "y = np.array([141, 106, 149, 59, 79, 136, 65, 136, 52, 87, 115, 140, 82, 69, 121]).reshape(-1, 1).reshape(15,1)\n",
    "\n",
    "x = np.asmatrix(np.c_[np.ones((15,1)),x])\n",
    "\n",
    "I = np.identity(2)\n",
    "alpha = 0.1 \n",
    "\n",
    "w = np.linalg.inv(x.T*x + alpha * I)*x.T*y # update this line\n",
    "w=w.ravel()\n",
    "print(\"Wartości współczynników dla alpha 0.1 = \"+str(w))"
   ]
  },
  {
   "cell_type": "code",
   "execution_count": 11,
   "outputs": [
    {
     "name": "stdout",
     "text": [
      "Wartości współczynników regresji Lasso \n1.6177649901016677\n[-180.8579086]\n"
     ],
     "output_type": "stream"
    }
   ],
   "source": [
    "#poniżej- kopia z wykładu\n",
    "from sklearn.linear_model import Lasso\n",
    "\n",
    "lasso_regression = Lasso(alpha=alpha)\n",
    "lasso_regression.fit(X=x, \n",
    "                      y=y)\n",
    "lasso_regression.coef_, lasso_regression.intercept_ \n",
    "print(\"Wartości współczynników regresji Lasso \\n\"+str(lasso_regression.coef_[1])+\"\\n\"+ str(lasso_regression.intercept_))\n",
    "#plot nie działa ale na tak na prawdę nie musi działać\n",
    "# plt.scatter(x, y,color='g')\n",
    "# plt.plot(x, lasso_regression.predict(x),color='k')\n",
    "# \n",
    "# plt.show()"
   ],
   "metadata": {
    "collapsed": false,
    "pycharm": {
     "name": "#%%\n",
     "is_executing": false
    }
   }
  },
  {
   "cell_type": "markdown",
   "metadata": {},
   "source": [
    "## 3. Extend the Fisher's classifier\n",
    "\n",
    "Please extend the targets of the ``iris_data`` variable and use it as the $y$.\n",
    "\n",
    "$$S_W = \\sum_{k=1}^3 S_k$$\n",
    "\n",
    "$$S_k = \\sum_{n\\in C_k} (x_n -m_k)(x_n-m_k)^T$$\n",
    "\n",
    "$$S_B=\\sum_{k=1}^3 N_k (m_k-m)(m_k-m)^T$$\n",
    "\n",
    "$$W = max_D (eig(S_W^{-1} S_B ))$$"
   ]
  },
  {
   "cell_type": "code",
   "execution_count": 13,
   "metadata": {
    "pycharm": {
     "is_executing": false
    }
   },
   "outputs": [
    {
     "name": "stdout",
     "text": [
      "True True\n230.4752666666667\na= 92.75292359642928\n b= 459.1578894435238\n"
     ],
     "output_type": "stream"
    }
   ],
   "source": [
    "import pandas as pd\n",
    "import numpy as np\n",
    "import matplotlib.pyplot as plt\n",
    "from sklearn.datasets import load_iris\n",
    "\n",
    "iris_data = load_iris()\n",
    "iris_df = pd.DataFrame(iris_data.data,columns=iris_data.feature_names)\n",
    "iris_df_target = pd.DataFrame(iris_data.target)\n",
    "\n",
    "\n",
    "\n",
    "x = iris_df['sepal width (cm)'].values # change here\n",
    "y = iris_df['sepal length (cm)'].values # change here\n",
    "z = iris_df_target[0].values # change here\n",
    "\n",
    "\n",
    "dataset_size = np.size(x)\n",
    "print(np.size(x) == np.size(y),np.size(x) == np.size(z)) \n",
    "\n",
    "mean_x, mean_y, mean_z = np.mean(x), np.mean(y), np.mean(z)\n",
    "m_global = np.mean(x+y+z)\n",
    "\n",
    "scatter_x = np.dot((x-mean_x),(x-mean_x).T)\n",
    "scatter_y = np.dot((y-mean_y),(y-mean_y).T)\n",
    "scatter_z = np.dot((z-mean_z),(z-mean_z).T)\n",
    "\n",
    "SS_W = scatter_x+scatter_y+scatter_z\n",
    "print(SS_W)\n",
    "\n",
    "\n",
    "SS_B = (dataset_size*(m_global-mean_x)*(m_global-mean_x).T)+(dataset_size*(m_global-mean_y)*(m_global-mean_y).T)+(dataset_size*(m_global-mean_z)*(m_global-mean_z).T)\n",
    "# SS_w = (np.sum((x-mean_x)**2))+np.sum((y-mean_y)**2)+np.sum((z-mean_z)**2)\n",
    "\n",
    "a =(SS_B/SS_W)\n",
    "b = a*(mean_y + mean_x+mean_z)/2\n",
    "\n",
    "\n",
    "y_pred = a * x + b\n",
    "print(\"a= \"+str(a)+ \"\\n b= \"+ str(b))"
   ]
  }
 ],
 "metadata": {
  "kernelspec": {
   "name": "conda-root-py",
   "language": "python",
   "display_name": "Python [conda env:root]"
  },
  "language_info": {
   "codemirror_mode": {
    "name": "ipython",
    "version": 3
   },
   "file_extension": ".py",
   "mimetype": "text/x-python",
   "name": "python",
   "nbconvert_exporter": "python",
   "pygments_lexer": "ipython3",
   "version": "3.7.3"
  },
  "pycharm": {
   "stem_cell": {
    "cell_type": "raw",
    "source": [],
    "metadata": {
     "collapsed": false
    }
   }
  }
 },
 "nbformat": 4,
 "nbformat_minor": 4
}